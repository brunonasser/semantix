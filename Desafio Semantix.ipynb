{
 "cells": [
  {
   "cell_type": "markdown",
   "metadata": {},
   "source": [
    "# Desafio Engenheiro de Dados"
   ]
  },
  {
   "cell_type": "markdown",
   "metadata": {},
   "source": [
    "### HTTP​ ​requests​ ​to​ ​the​ ​NASA​ ​Kennedy​ ​Space​ ​Center​ ​WWW​ ​server\n",
    "\n",
    "Fonte​ ​oficial​ ​do​ ​dateset​:​ ​​http://ita.ee.lbl.gov/html/contrib/NASA-HTTP.html\n",
    "\n",
    "Dados​:\n",
    "\n",
    "● Jul​ ​01​ ​to​ ​Jul​ ​31,​ ​ASCII​ ​format,​ ​20.7​ ​MB​ ​gzip​ ​compressed​,​ ​205.2​ ​MB.\n",
    "\n",
    "● Aug​ ​04​ ​to​ ​Aug​ ​31,​ ​ASCII​ ​format,​ ​21.8​ ​MB​ ​gzip​ ​compressed​,​ ​167.8​ ​MB.\n",
    "\n",
    "Sobre o dataset​: Esses dois conjuntos de dados possuem todas as requisições HTTP para o servidor da NASA Kennedy\n",
    "Space​ ​Center​ ​WWW​ ​na​ ​Flórida​ ​para​ ​um​ ​período​ ​específico."
   ]
  },
  {
   "cell_type": "markdown",
   "metadata": {},
   "source": [
    "## Importando e tratando os dados "
   ]
  },
  {
   "cell_type": "code",
   "execution_count": 1,
   "metadata": {},
   "outputs": [],
   "source": [
    "#importação das bibliotecas\n",
    "import seaborn as sns\n",
    "import pandas as pd\n",
    "import numpy as np\n",
    "import matplotlib.pyplot as plt\n",
    "%matplotlib inline"
   ]
  },
  {
   "cell_type": "code",
   "execution_count": 2,
   "metadata": {},
   "outputs": [],
   "source": [
    "dataJ = pd.read_csv('access_log_Jul95.txt', sep=\" \" or '-', header=None, encoding=\"ISO-8859-1\",error_bad_lines=False)"
   ]
  },
  {
   "cell_type": "code",
   "execution_count": 3,
   "metadata": {},
   "outputs": [],
   "source": [
    "dataA = pd.read_csv('access_log_Aug95.txt', sep=\" \" or '-', header=None, encoding=\"ISO-8859-1\",error_bad_lines=False)"
   ]
  },
  {
   "cell_type": "code",
   "execution_count": 4,
   "metadata": {},
   "outputs": [
    {
     "name": "stdout",
     "output_type": "stream",
     "text": [
      "<class 'pandas.core.frame.DataFrame'>\n",
      "RangeIndex: 1891715 entries, 0 to 1891714\n",
      "Data columns (total 8 columns):\n",
      "0    object\n",
      "1    object\n",
      "2    object\n",
      "3    object\n",
      "4    object\n",
      "5    object\n",
      "6    float64\n",
      "7    object\n",
      "dtypes: float64(1), object(7)\n",
      "memory usage: 115.5+ MB\n"
     ]
    },
    {
     "data": {
      "text/html": [
       "<div>\n",
       "<style scoped>\n",
       "    .dataframe tbody tr th:only-of-type {\n",
       "        vertical-align: middle;\n",
       "    }\n",
       "\n",
       "    .dataframe tbody tr th {\n",
       "        vertical-align: top;\n",
       "    }\n",
       "\n",
       "    .dataframe thead th {\n",
       "        text-align: right;\n",
       "    }\n",
       "</style>\n",
       "<table border=\"1\" class=\"dataframe\">\n",
       "  <thead>\n",
       "    <tr style=\"text-align: right;\">\n",
       "      <th></th>\n",
       "      <th>0</th>\n",
       "      <th>1</th>\n",
       "      <th>2</th>\n",
       "      <th>3</th>\n",
       "      <th>4</th>\n",
       "      <th>5</th>\n",
       "      <th>6</th>\n",
       "      <th>7</th>\n",
       "    </tr>\n",
       "  </thead>\n",
       "  <tbody>\n",
       "    <tr>\n",
       "      <th>0</th>\n",
       "      <td>199.72.81.55</td>\n",
       "      <td>-</td>\n",
       "      <td>-</td>\n",
       "      <td>[01/Jul/1995:00:00:01</td>\n",
       "      <td>-0400]</td>\n",
       "      <td>GET /history/apollo/ HTTP/1.0</td>\n",
       "      <td>200.0</td>\n",
       "      <td>6245</td>\n",
       "    </tr>\n",
       "    <tr>\n",
       "      <th>1</th>\n",
       "      <td>unicomp6.unicomp.net</td>\n",
       "      <td>-</td>\n",
       "      <td>-</td>\n",
       "      <td>[01/Jul/1995:00:00:06</td>\n",
       "      <td>-0400]</td>\n",
       "      <td>GET /shuttle/countdown/ HTTP/1.0</td>\n",
       "      <td>200.0</td>\n",
       "      <td>3985</td>\n",
       "    </tr>\n",
       "    <tr>\n",
       "      <th>2</th>\n",
       "      <td>199.120.110.21</td>\n",
       "      <td>-</td>\n",
       "      <td>-</td>\n",
       "      <td>[01/Jul/1995:00:00:09</td>\n",
       "      <td>-0400]</td>\n",
       "      <td>GET /shuttle/missions/sts-73/mission-sts-73.ht...</td>\n",
       "      <td>200.0</td>\n",
       "      <td>4085</td>\n",
       "    </tr>\n",
       "    <tr>\n",
       "      <th>3</th>\n",
       "      <td>burger.letters.com</td>\n",
       "      <td>-</td>\n",
       "      <td>-</td>\n",
       "      <td>[01/Jul/1995:00:00:11</td>\n",
       "      <td>-0400]</td>\n",
       "      <td>GET /shuttle/countdown/liftoff.html HTTP/1.0</td>\n",
       "      <td>304.0</td>\n",
       "      <td>0</td>\n",
       "    </tr>\n",
       "    <tr>\n",
       "      <th>4</th>\n",
       "      <td>199.120.110.21</td>\n",
       "      <td>-</td>\n",
       "      <td>-</td>\n",
       "      <td>[01/Jul/1995:00:00:11</td>\n",
       "      <td>-0400]</td>\n",
       "      <td>GET /shuttle/missions/sts-73/sts-73-patch-smal...</td>\n",
       "      <td>200.0</td>\n",
       "      <td>4179</td>\n",
       "    </tr>\n",
       "  </tbody>\n",
       "</table>\n",
       "</div>"
      ],
      "text/plain": [
       "                      0  1  2                      3       4  \\\n",
       "0          199.72.81.55  -  -  [01/Jul/1995:00:00:01  -0400]   \n",
       "1  unicomp6.unicomp.net  -  -  [01/Jul/1995:00:00:06  -0400]   \n",
       "2        199.120.110.21  -  -  [01/Jul/1995:00:00:09  -0400]   \n",
       "3    burger.letters.com  -  -  [01/Jul/1995:00:00:11  -0400]   \n",
       "4        199.120.110.21  -  -  [01/Jul/1995:00:00:11  -0400]   \n",
       "\n",
       "                                                   5      6     7  \n",
       "0                      GET /history/apollo/ HTTP/1.0  200.0  6245  \n",
       "1                   GET /shuttle/countdown/ HTTP/1.0  200.0  3985  \n",
       "2  GET /shuttle/missions/sts-73/mission-sts-73.ht...  200.0  4085  \n",
       "3       GET /shuttle/countdown/liftoff.html HTTP/1.0  304.0     0  \n",
       "4  GET /shuttle/missions/sts-73/sts-73-patch-smal...  200.0  4179  "
      ]
     },
     "execution_count": 4,
     "metadata": {},
     "output_type": "execute_result"
    }
   ],
   "source": [
    "dataJ.info()\n",
    "dataJ.head()"
   ]
  },
  {
   "cell_type": "code",
   "execution_count": 5,
   "metadata": {},
   "outputs": [
    {
     "name": "stdout",
     "output_type": "stream",
     "text": [
      "<class 'pandas.core.frame.DataFrame'>\n",
      "RangeIndex: 1569898 entries, 0 to 1569897\n",
      "Data columns (total 8 columns):\n",
      "0    1569898 non-null object\n",
      "1    1569898 non-null object\n",
      "2    1569898 non-null object\n",
      "3    1569898 non-null object\n",
      "4    1569898 non-null object\n",
      "5    1569898 non-null object\n",
      "6    1569898 non-null int64\n",
      "7    1569898 non-null object\n",
      "dtypes: int64(1), object(7)\n",
      "memory usage: 95.8+ MB\n"
     ]
    },
    {
     "data": {
      "text/html": [
       "<div>\n",
       "<style scoped>\n",
       "    .dataframe tbody tr th:only-of-type {\n",
       "        vertical-align: middle;\n",
       "    }\n",
       "\n",
       "    .dataframe tbody tr th {\n",
       "        vertical-align: top;\n",
       "    }\n",
       "\n",
       "    .dataframe thead th {\n",
       "        text-align: right;\n",
       "    }\n",
       "</style>\n",
       "<table border=\"1\" class=\"dataframe\">\n",
       "  <thead>\n",
       "    <tr style=\"text-align: right;\">\n",
       "      <th></th>\n",
       "      <th>0</th>\n",
       "      <th>1</th>\n",
       "      <th>2</th>\n",
       "      <th>3</th>\n",
       "      <th>4</th>\n",
       "      <th>5</th>\n",
       "      <th>6</th>\n",
       "      <th>7</th>\n",
       "    </tr>\n",
       "  </thead>\n",
       "  <tbody>\n",
       "    <tr>\n",
       "      <th>0</th>\n",
       "      <td>in24.inetnebr.com</td>\n",
       "      <td>-</td>\n",
       "      <td>-</td>\n",
       "      <td>[01/Aug/1995:00:00:01</td>\n",
       "      <td>-0400]</td>\n",
       "      <td>GET /shuttle/missions/sts-68/news/sts-68-mcc-0...</td>\n",
       "      <td>200</td>\n",
       "      <td>1839</td>\n",
       "    </tr>\n",
       "    <tr>\n",
       "      <th>1</th>\n",
       "      <td>uplherc.upl.com</td>\n",
       "      <td>-</td>\n",
       "      <td>-</td>\n",
       "      <td>[01/Aug/1995:00:00:07</td>\n",
       "      <td>-0400]</td>\n",
       "      <td>GET / HTTP/1.0</td>\n",
       "      <td>304</td>\n",
       "      <td>0</td>\n",
       "    </tr>\n",
       "    <tr>\n",
       "      <th>2</th>\n",
       "      <td>uplherc.upl.com</td>\n",
       "      <td>-</td>\n",
       "      <td>-</td>\n",
       "      <td>[01/Aug/1995:00:00:08</td>\n",
       "      <td>-0400]</td>\n",
       "      <td>GET /images/ksclogo-medium.gif HTTP/1.0</td>\n",
       "      <td>304</td>\n",
       "      <td>0</td>\n",
       "    </tr>\n",
       "    <tr>\n",
       "      <th>3</th>\n",
       "      <td>uplherc.upl.com</td>\n",
       "      <td>-</td>\n",
       "      <td>-</td>\n",
       "      <td>[01/Aug/1995:00:00:08</td>\n",
       "      <td>-0400]</td>\n",
       "      <td>GET /images/MOSAIC-logosmall.gif HTTP/1.0</td>\n",
       "      <td>304</td>\n",
       "      <td>0</td>\n",
       "    </tr>\n",
       "    <tr>\n",
       "      <th>4</th>\n",
       "      <td>uplherc.upl.com</td>\n",
       "      <td>-</td>\n",
       "      <td>-</td>\n",
       "      <td>[01/Aug/1995:00:00:08</td>\n",
       "      <td>-0400]</td>\n",
       "      <td>GET /images/USA-logosmall.gif HTTP/1.0</td>\n",
       "      <td>304</td>\n",
       "      <td>0</td>\n",
       "    </tr>\n",
       "  </tbody>\n",
       "</table>\n",
       "</div>"
      ],
      "text/plain": [
       "                   0  1  2                      3       4  \\\n",
       "0  in24.inetnebr.com  -  -  [01/Aug/1995:00:00:01  -0400]   \n",
       "1    uplherc.upl.com  -  -  [01/Aug/1995:00:00:07  -0400]   \n",
       "2    uplherc.upl.com  -  -  [01/Aug/1995:00:00:08  -0400]   \n",
       "3    uplherc.upl.com  -  -  [01/Aug/1995:00:00:08  -0400]   \n",
       "4    uplherc.upl.com  -  -  [01/Aug/1995:00:00:08  -0400]   \n",
       "\n",
       "                                                   5    6     7  \n",
       "0  GET /shuttle/missions/sts-68/news/sts-68-mcc-0...  200  1839  \n",
       "1                                     GET / HTTP/1.0  304     0  \n",
       "2            GET /images/ksclogo-medium.gif HTTP/1.0  304     0  \n",
       "3          GET /images/MOSAIC-logosmall.gif HTTP/1.0  304     0  \n",
       "4             GET /images/USA-logosmall.gif HTTP/1.0  304     0  "
      ]
     },
     "execution_count": 5,
     "metadata": {},
     "output_type": "execute_result"
    }
   ],
   "source": [
    "dataA.info()\n",
    "dataA.head()"
   ]
  },
  {
   "cell_type": "code",
   "execution_count": 6,
   "metadata": {},
   "outputs": [
    {
     "name": "stdout",
     "output_type": "stream",
     "text": [
      "<class 'pandas.core.frame.DataFrame'>\n",
      "Int64Index: 3461613 entries, 0 to 1569897\n",
      "Data columns (total 8 columns):\n",
      "0    object\n",
      "1    object\n",
      "2    object\n",
      "3    object\n",
      "4    object\n",
      "5    object\n",
      "6    float64\n",
      "7    object\n",
      "dtypes: float64(1), object(7)\n",
      "memory usage: 237.7+ MB\n"
     ]
    },
    {
     "data": {
      "text/html": [
       "<div>\n",
       "<style scoped>\n",
       "    .dataframe tbody tr th:only-of-type {\n",
       "        vertical-align: middle;\n",
       "    }\n",
       "\n",
       "    .dataframe tbody tr th {\n",
       "        vertical-align: top;\n",
       "    }\n",
       "\n",
       "    .dataframe thead th {\n",
       "        text-align: right;\n",
       "    }\n",
       "</style>\n",
       "<table border=\"1\" class=\"dataframe\">\n",
       "  <thead>\n",
       "    <tr style=\"text-align: right;\">\n",
       "      <th></th>\n",
       "      <th>0</th>\n",
       "      <th>1</th>\n",
       "      <th>2</th>\n",
       "      <th>3</th>\n",
       "      <th>4</th>\n",
       "      <th>5</th>\n",
       "      <th>6</th>\n",
       "      <th>7</th>\n",
       "    </tr>\n",
       "  </thead>\n",
       "  <tbody>\n",
       "    <tr>\n",
       "      <th>0</th>\n",
       "      <td>199.72.81.55</td>\n",
       "      <td>-</td>\n",
       "      <td>-</td>\n",
       "      <td>[01/Jul/1995:00:00:01</td>\n",
       "      <td>-0400]</td>\n",
       "      <td>GET /history/apollo/ HTTP/1.0</td>\n",
       "      <td>200.0</td>\n",
       "      <td>6245</td>\n",
       "    </tr>\n",
       "    <tr>\n",
       "      <th>1</th>\n",
       "      <td>unicomp6.unicomp.net</td>\n",
       "      <td>-</td>\n",
       "      <td>-</td>\n",
       "      <td>[01/Jul/1995:00:00:06</td>\n",
       "      <td>-0400]</td>\n",
       "      <td>GET /shuttle/countdown/ HTTP/1.0</td>\n",
       "      <td>200.0</td>\n",
       "      <td>3985</td>\n",
       "    </tr>\n",
       "    <tr>\n",
       "      <th>2</th>\n",
       "      <td>199.120.110.21</td>\n",
       "      <td>-</td>\n",
       "      <td>-</td>\n",
       "      <td>[01/Jul/1995:00:00:09</td>\n",
       "      <td>-0400]</td>\n",
       "      <td>GET /shuttle/missions/sts-73/mission-sts-73.ht...</td>\n",
       "      <td>200.0</td>\n",
       "      <td>4085</td>\n",
       "    </tr>\n",
       "    <tr>\n",
       "      <th>3</th>\n",
       "      <td>burger.letters.com</td>\n",
       "      <td>-</td>\n",
       "      <td>-</td>\n",
       "      <td>[01/Jul/1995:00:00:11</td>\n",
       "      <td>-0400]</td>\n",
       "      <td>GET /shuttle/countdown/liftoff.html HTTP/1.0</td>\n",
       "      <td>304.0</td>\n",
       "      <td>0</td>\n",
       "    </tr>\n",
       "    <tr>\n",
       "      <th>4</th>\n",
       "      <td>199.120.110.21</td>\n",
       "      <td>-</td>\n",
       "      <td>-</td>\n",
       "      <td>[01/Jul/1995:00:00:11</td>\n",
       "      <td>-0400]</td>\n",
       "      <td>GET /shuttle/missions/sts-73/sts-73-patch-smal...</td>\n",
       "      <td>200.0</td>\n",
       "      <td>4179</td>\n",
       "    </tr>\n",
       "  </tbody>\n",
       "</table>\n",
       "</div>"
      ],
      "text/plain": [
       "                      0  1  2                      3       4  \\\n",
       "0          199.72.81.55  -  -  [01/Jul/1995:00:00:01  -0400]   \n",
       "1  unicomp6.unicomp.net  -  -  [01/Jul/1995:00:00:06  -0400]   \n",
       "2        199.120.110.21  -  -  [01/Jul/1995:00:00:09  -0400]   \n",
       "3    burger.letters.com  -  -  [01/Jul/1995:00:00:11  -0400]   \n",
       "4        199.120.110.21  -  -  [01/Jul/1995:00:00:11  -0400]   \n",
       "\n",
       "                                                   5      6     7  \n",
       "0                      GET /history/apollo/ HTTP/1.0  200.0  6245  \n",
       "1                   GET /shuttle/countdown/ HTTP/1.0  200.0  3985  \n",
       "2  GET /shuttle/missions/sts-73/mission-sts-73.ht...  200.0  4085  \n",
       "3       GET /shuttle/countdown/liftoff.html HTTP/1.0  304.0     0  \n",
       "4  GET /shuttle/missions/sts-73/sts-73-patch-smal...  200.0  4179  "
      ]
     },
     "execution_count": 6,
     "metadata": {},
     "output_type": "execute_result"
    }
   ],
   "source": [
    "#juntandos os dois dataframes em um só\n",
    "data=pd.concat([dataJ,dataA])\n",
    "data.info()\n",
    "data.head()"
   ]
  },
  {
   "cell_type": "code",
   "execution_count": null,
   "metadata": {},
   "outputs": [],
   "source": []
  },
  {
   "cell_type": "code",
   "execution_count": 7,
   "metadata": {},
   "outputs": [],
   "source": [
    "data.drop([1,2,4],axis=1,inplace=True)"
   ]
  },
  {
   "cell_type": "code",
   "execution_count": 8,
   "metadata": {},
   "outputs": [
    {
     "data": {
      "text/html": [
       "<div>\n",
       "<style scoped>\n",
       "    .dataframe tbody tr th:only-of-type {\n",
       "        vertical-align: middle;\n",
       "    }\n",
       "\n",
       "    .dataframe tbody tr th {\n",
       "        vertical-align: top;\n",
       "    }\n",
       "\n",
       "    .dataframe thead th {\n",
       "        text-align: right;\n",
       "    }\n",
       "</style>\n",
       "<table border=\"1\" class=\"dataframe\">\n",
       "  <thead>\n",
       "    <tr style=\"text-align: right;\">\n",
       "      <th></th>\n",
       "      <th>0</th>\n",
       "      <th>3</th>\n",
       "      <th>5</th>\n",
       "      <th>6</th>\n",
       "      <th>7</th>\n",
       "    </tr>\n",
       "  </thead>\n",
       "  <tbody>\n",
       "    <tr>\n",
       "      <th>0</th>\n",
       "      <td>199.72.81.55</td>\n",
       "      <td>[01/Jul/1995:00:00:01</td>\n",
       "      <td>GET /history/apollo/ HTTP/1.0</td>\n",
       "      <td>200.0</td>\n",
       "      <td>6245</td>\n",
       "    </tr>\n",
       "    <tr>\n",
       "      <th>1</th>\n",
       "      <td>unicomp6.unicomp.net</td>\n",
       "      <td>[01/Jul/1995:00:00:06</td>\n",
       "      <td>GET /shuttle/countdown/ HTTP/1.0</td>\n",
       "      <td>200.0</td>\n",
       "      <td>3985</td>\n",
       "    </tr>\n",
       "    <tr>\n",
       "      <th>2</th>\n",
       "      <td>199.120.110.21</td>\n",
       "      <td>[01/Jul/1995:00:00:09</td>\n",
       "      <td>GET /shuttle/missions/sts-73/mission-sts-73.ht...</td>\n",
       "      <td>200.0</td>\n",
       "      <td>4085</td>\n",
       "    </tr>\n",
       "    <tr>\n",
       "      <th>3</th>\n",
       "      <td>burger.letters.com</td>\n",
       "      <td>[01/Jul/1995:00:00:11</td>\n",
       "      <td>GET /shuttle/countdown/liftoff.html HTTP/1.0</td>\n",
       "      <td>304.0</td>\n",
       "      <td>0</td>\n",
       "    </tr>\n",
       "    <tr>\n",
       "      <th>4</th>\n",
       "      <td>199.120.110.21</td>\n",
       "      <td>[01/Jul/1995:00:00:11</td>\n",
       "      <td>GET /shuttle/missions/sts-73/sts-73-patch-smal...</td>\n",
       "      <td>200.0</td>\n",
       "      <td>4179</td>\n",
       "    </tr>\n",
       "    <tr>\n",
       "      <th>5</th>\n",
       "      <td>burger.letters.com</td>\n",
       "      <td>[01/Jul/1995:00:00:12</td>\n",
       "      <td>GET /images/NASA-logosmall.gif HTTP/1.0</td>\n",
       "      <td>304.0</td>\n",
       "      <td>0</td>\n",
       "    </tr>\n",
       "  </tbody>\n",
       "</table>\n",
       "</div>"
      ],
      "text/plain": [
       "                      0                      3  \\\n",
       "0          199.72.81.55  [01/Jul/1995:00:00:01   \n",
       "1  unicomp6.unicomp.net  [01/Jul/1995:00:00:06   \n",
       "2        199.120.110.21  [01/Jul/1995:00:00:09   \n",
       "3    burger.letters.com  [01/Jul/1995:00:00:11   \n",
       "4        199.120.110.21  [01/Jul/1995:00:00:11   \n",
       "5    burger.letters.com  [01/Jul/1995:00:00:12   \n",
       "\n",
       "                                                   5      6     7  \n",
       "0                      GET /history/apollo/ HTTP/1.0  200.0  6245  \n",
       "1                   GET /shuttle/countdown/ HTTP/1.0  200.0  3985  \n",
       "2  GET /shuttle/missions/sts-73/mission-sts-73.ht...  200.0  4085  \n",
       "3       GET /shuttle/countdown/liftoff.html HTTP/1.0  304.0     0  \n",
       "4  GET /shuttle/missions/sts-73/sts-73-patch-smal...  200.0  4179  \n",
       "5            GET /images/NASA-logosmall.gif HTTP/1.0  304.0     0  "
      ]
     },
     "execution_count": 8,
     "metadata": {},
     "output_type": "execute_result"
    }
   ],
   "source": [
    "data.head(6)"
   ]
  },
  {
   "cell_type": "code",
   "execution_count": null,
   "metadata": {},
   "outputs": [],
   "source": []
  },
  {
   "cell_type": "code",
   "execution_count": null,
   "metadata": {},
   "outputs": [],
   "source": []
  },
  {
   "cell_type": "code",
   "execution_count": 9,
   "metadata": {},
   "outputs": [
    {
     "data": {
      "text/plain": [
       "0    0\n",
       "3    0\n",
       "5    0\n",
       "6    0\n",
       "7    0\n",
       "dtype: int64"
      ]
     },
     "execution_count": 9,
     "metadata": {},
     "output_type": "execute_result"
    }
   ],
   "source": [
    "#trocando dados ausentes por 0\n",
    "data.fillna(0,inplace=True)\n",
    "data.isnull().sum()"
   ]
  },
  {
   "cell_type": "code",
   "execution_count": 10,
   "metadata": {},
   "outputs": [],
   "source": [
    "#trocando nomes das colunas\n",
    "data.columns = [\"Host\", \"Timestamp\", \"Requisição\", \"Código do retorno HTTP\",\"Total de bytes retornados\"]"
   ]
  },
  {
   "cell_type": "code",
   "execution_count": 11,
   "metadata": {},
   "outputs": [
    {
     "data": {
      "text/html": [
       "<div>\n",
       "<style scoped>\n",
       "    .dataframe tbody tr th:only-of-type {\n",
       "        vertical-align: middle;\n",
       "    }\n",
       "\n",
       "    .dataframe tbody tr th {\n",
       "        vertical-align: top;\n",
       "    }\n",
       "\n",
       "    .dataframe thead th {\n",
       "        text-align: right;\n",
       "    }\n",
       "</style>\n",
       "<table border=\"1\" class=\"dataframe\">\n",
       "  <thead>\n",
       "    <tr style=\"text-align: right;\">\n",
       "      <th></th>\n",
       "      <th>Host</th>\n",
       "      <th>Timestamp</th>\n",
       "      <th>Requisição</th>\n",
       "      <th>Código do retorno HTTP</th>\n",
       "      <th>Total de bytes retornados</th>\n",
       "    </tr>\n",
       "  </thead>\n",
       "  <tbody>\n",
       "    <tr>\n",
       "      <th>0</th>\n",
       "      <td>199.72.81.55</td>\n",
       "      <td>[01/Jul/1995:00:00:01</td>\n",
       "      <td>GET /history/apollo/ HTTP/1.0</td>\n",
       "      <td>200.0</td>\n",
       "      <td>6245</td>\n",
       "    </tr>\n",
       "    <tr>\n",
       "      <th>1</th>\n",
       "      <td>unicomp6.unicomp.net</td>\n",
       "      <td>[01/Jul/1995:00:00:06</td>\n",
       "      <td>GET /shuttle/countdown/ HTTP/1.0</td>\n",
       "      <td>200.0</td>\n",
       "      <td>3985</td>\n",
       "    </tr>\n",
       "    <tr>\n",
       "      <th>2</th>\n",
       "      <td>199.120.110.21</td>\n",
       "      <td>[01/Jul/1995:00:00:09</td>\n",
       "      <td>GET /shuttle/missions/sts-73/mission-sts-73.ht...</td>\n",
       "      <td>200.0</td>\n",
       "      <td>4085</td>\n",
       "    </tr>\n",
       "    <tr>\n",
       "      <th>3</th>\n",
       "      <td>burger.letters.com</td>\n",
       "      <td>[01/Jul/1995:00:00:11</td>\n",
       "      <td>GET /shuttle/countdown/liftoff.html HTTP/1.0</td>\n",
       "      <td>304.0</td>\n",
       "      <td>0</td>\n",
       "    </tr>\n",
       "    <tr>\n",
       "      <th>4</th>\n",
       "      <td>199.120.110.21</td>\n",
       "      <td>[01/Jul/1995:00:00:11</td>\n",
       "      <td>GET /shuttle/missions/sts-73/sts-73-patch-smal...</td>\n",
       "      <td>200.0</td>\n",
       "      <td>4179</td>\n",
       "    </tr>\n",
       "  </tbody>\n",
       "</table>\n",
       "</div>"
      ],
      "text/plain": [
       "                   Host              Timestamp  \\\n",
       "0          199.72.81.55  [01/Jul/1995:00:00:01   \n",
       "1  unicomp6.unicomp.net  [01/Jul/1995:00:00:06   \n",
       "2        199.120.110.21  [01/Jul/1995:00:00:09   \n",
       "3    burger.letters.com  [01/Jul/1995:00:00:11   \n",
       "4        199.120.110.21  [01/Jul/1995:00:00:11   \n",
       "\n",
       "                                          Requisição  Código do retorno HTTP  \\\n",
       "0                      GET /history/apollo/ HTTP/1.0                   200.0   \n",
       "1                   GET /shuttle/countdown/ HTTP/1.0                   200.0   \n",
       "2  GET /shuttle/missions/sts-73/mission-sts-73.ht...                   200.0   \n",
       "3       GET /shuttle/countdown/liftoff.html HTTP/1.0                   304.0   \n",
       "4  GET /shuttle/missions/sts-73/sts-73-patch-smal...                   200.0   \n",
       "\n",
       "  Total de bytes retornados  \n",
       "0                      6245  \n",
       "1                      3985  \n",
       "2                      4085  \n",
       "3                         0  \n",
       "4                      4179  "
      ]
     },
     "execution_count": 11,
     "metadata": {},
     "output_type": "execute_result"
    }
   ],
   "source": [
    "data.head()"
   ]
  },
  {
   "cell_type": "markdown",
   "metadata": {},
   "source": [
    "# $$QUESTÕES$$"
   ]
  },
  {
   "cell_type": "markdown",
   "metadata": {},
   "source": [
    "## Número de hosts únicos:"
   ]
  },
  {
   "cell_type": "code",
   "execution_count": 12,
   "metadata": {},
   "outputs": [
    {
     "data": {
      "text/plain": [
       "137979"
      ]
     },
     "execution_count": 12,
     "metadata": {},
     "output_type": "execute_result"
    }
   ],
   "source": [
    "data['Host'].nunique()"
   ]
  },
  {
   "cell_type": "markdown",
   "metadata": {},
   "source": [
    "## O total de erros 404"
   ]
  },
  {
   "cell_type": "code",
   "execution_count": 13,
   "metadata": {},
   "outputs": [],
   "source": [
    "dataerro=data[data['Código do retorno HTTP']==404]"
   ]
  },
  {
   "cell_type": "code",
   "execution_count": 14,
   "metadata": {},
   "outputs": [
    {
     "data": {
      "text/plain": [
       "404.0    20901\n",
       "Name: Código do retorno HTTP, dtype: int64"
      ]
     },
     "execution_count": 14,
     "metadata": {},
     "output_type": "execute_result"
    }
   ],
   "source": [
    "dataerro['Código do retorno HTTP'].value_counts()"
   ]
  },
  {
   "cell_type": "markdown",
   "metadata": {},
   "source": [
    "## Os 5 URLs que mais causaram erro 404"
   ]
  },
  {
   "cell_type": "code",
   "execution_count": 15,
   "metadata": {},
   "outputs": [
    {
     "data": {
      "text/plain": [
       "GET /pub/winvn/readme.txt HTTP/1.0                           2004\n",
       "GET /pub/winvn/release.txt HTTP/1.0                          1732\n",
       "GET /shuttle/missions/STS-69/mission-STS-69.html HTTP/1.0     682\n",
       "GET /shuttle/missions/sts-68/ksc-upclose.gif HTTP/1.0         426\n",
       "GET /history/apollo/a-001/a-001-patch-small.gif HTTP/1.0      384\n",
       "Name: Requisição, dtype: int64"
      ]
     },
     "execution_count": 15,
     "metadata": {},
     "output_type": "execute_result"
    }
   ],
   "source": [
    "dataerro['Requisição'].value_counts().sort_values(ascending=False).head(5)"
   ]
  },
  {
   "cell_type": "markdown",
   "metadata": {},
   "source": [
    "## Quantidade de erros  404 por dia"
   ]
  },
  {
   "cell_type": "code",
   "execution_count": 16,
   "metadata": {},
   "outputs": [],
   "source": [
    "dataJ.drop([1,2,4],axis=1,inplace=True)\n",
    "dataJ.columns = [\"Host\", \"Timestamp\", \"Requisição\", \"Código do retorno HTTP\",\"Total de bytes retornados\"]\n",
    "dataJ.fillna(0,inplace=True)\n",
    "dataA.drop([1,2,4],axis=1,inplace=True)\n",
    "dataA.columns = [\"Host\", \"Timestamp\", \"Requisição\", \"Código do retorno HTTP\",\"Total de bytes retornados\"]\n",
    "dataA.fillna(0,inplace=True)"
   ]
  },
  {
   "cell_type": "code",
   "execution_count": 17,
   "metadata": {},
   "outputs": [
    {
     "data": {
      "text/html": [
       "<div>\n",
       "<style scoped>\n",
       "    .dataframe tbody tr th:only-of-type {\n",
       "        vertical-align: middle;\n",
       "    }\n",
       "\n",
       "    .dataframe tbody tr th {\n",
       "        vertical-align: top;\n",
       "    }\n",
       "\n",
       "    .dataframe thead th {\n",
       "        text-align: right;\n",
       "    }\n",
       "</style>\n",
       "<table border=\"1\" class=\"dataframe\">\n",
       "  <thead>\n",
       "    <tr style=\"text-align: right;\">\n",
       "      <th></th>\n",
       "      <th>Host</th>\n",
       "      <th>Timestamp</th>\n",
       "      <th>Requisição</th>\n",
       "      <th>Código do retorno HTTP</th>\n",
       "      <th>Total de bytes retornados</th>\n",
       "    </tr>\n",
       "  </thead>\n",
       "  <tbody>\n",
       "    <tr>\n",
       "      <th>0</th>\n",
       "      <td>in24.inetnebr.com</td>\n",
       "      <td>[01/Aug/1995:00:00:01</td>\n",
       "      <td>GET /shuttle/missions/sts-68/news/sts-68-mcc-0...</td>\n",
       "      <td>200</td>\n",
       "      <td>1839</td>\n",
       "    </tr>\n",
       "    <tr>\n",
       "      <th>1</th>\n",
       "      <td>uplherc.upl.com</td>\n",
       "      <td>[01/Aug/1995:00:00:07</td>\n",
       "      <td>GET / HTTP/1.0</td>\n",
       "      <td>304</td>\n",
       "      <td>0</td>\n",
       "    </tr>\n",
       "    <tr>\n",
       "      <th>2</th>\n",
       "      <td>uplherc.upl.com</td>\n",
       "      <td>[01/Aug/1995:00:00:08</td>\n",
       "      <td>GET /images/ksclogo-medium.gif HTTP/1.0</td>\n",
       "      <td>304</td>\n",
       "      <td>0</td>\n",
       "    </tr>\n",
       "    <tr>\n",
       "      <th>3</th>\n",
       "      <td>uplherc.upl.com</td>\n",
       "      <td>[01/Aug/1995:00:00:08</td>\n",
       "      <td>GET /images/MOSAIC-logosmall.gif HTTP/1.0</td>\n",
       "      <td>304</td>\n",
       "      <td>0</td>\n",
       "    </tr>\n",
       "    <tr>\n",
       "      <th>4</th>\n",
       "      <td>uplherc.upl.com</td>\n",
       "      <td>[01/Aug/1995:00:00:08</td>\n",
       "      <td>GET /images/USA-logosmall.gif HTTP/1.0</td>\n",
       "      <td>304</td>\n",
       "      <td>0</td>\n",
       "    </tr>\n",
       "  </tbody>\n",
       "</table>\n",
       "</div>"
      ],
      "text/plain": [
       "                Host              Timestamp  \\\n",
       "0  in24.inetnebr.com  [01/Aug/1995:00:00:01   \n",
       "1    uplherc.upl.com  [01/Aug/1995:00:00:07   \n",
       "2    uplherc.upl.com  [01/Aug/1995:00:00:08   \n",
       "3    uplherc.upl.com  [01/Aug/1995:00:00:08   \n",
       "4    uplherc.upl.com  [01/Aug/1995:00:00:08   \n",
       "\n",
       "                                          Requisição  Código do retorno HTTP  \\\n",
       "0  GET /shuttle/missions/sts-68/news/sts-68-mcc-0...                     200   \n",
       "1                                     GET / HTTP/1.0                     304   \n",
       "2            GET /images/ksclogo-medium.gif HTTP/1.0                     304   \n",
       "3          GET /images/MOSAIC-logosmall.gif HTTP/1.0                     304   \n",
       "4             GET /images/USA-logosmall.gif HTTP/1.0                     304   \n",
       "\n",
       "  Total de bytes retornados  \n",
       "0                      1839  \n",
       "1                         0  \n",
       "2                         0  \n",
       "3                         0  \n",
       "4                         0  "
      ]
     },
     "execution_count": 17,
     "metadata": {},
     "output_type": "execute_result"
    }
   ],
   "source": [
    "dataA.head()\n"
   ]
  },
  {
   "cell_type": "code",
   "execution_count": 18,
   "metadata": {},
   "outputs": [],
   "source": [
    "#data['Timestamp'].astype(str)\n",
    "dataJ['Timestamp'] = dataJ['Timestamp'].astype(str)\n",
    "dataA['Timestamp'] = dataA['Timestamp'].astype(str)"
   ]
  },
  {
   "cell_type": "code",
   "execution_count": 19,
   "metadata": {},
   "outputs": [],
   "source": [
    "\n",
    "def explode(df, lst_cols, fill_value=''):\n",
    "    # verifica se \"lst_cols\" é uma coluna\n",
    "    if lst_cols and not isinstance(lst_cols, list):\n",
    "        lst_cols = [lst_cols]\n",
    "    # todas as colunas recebe `lst_cols`\n",
    "    idx_cols = df.columns.difference(lst_cols)\n",
    "\n",
    "    # calcula o tamanho\n",
    "    lens = df[lst_cols[0]].str.len()\n",
    "    \n",
    "    # Verifica se as linhas não estão vazias\n",
    "    if (lens > 0).all():\n",
    "        return pd.DataFrame({\n",
    "            col:np.repeat(df[col].values, lens)\n",
    "            for col in idx_cols\n",
    "        }).assign(**{col:np.concatenate(df[col].values) for col in lst_cols}) \\\n",
    "          .loc[:, df.columns]\n",
    "    else:\n",
    "        \n",
    "        return pd.DataFrame({\n",
    "            col:np.repeat(df[col].values, lens)\n",
    "            for col in idx_cols\n",
    "        }).assign(**{col:np.concatenate(df[col].values) for col in lst_cols}) \\\n",
    "          .append(df.loc[lens==0, idx_cols]).fillna(fill_value) \\\n",
    "          .loc[:, df.columns]"
   ]
  },
  {
   "cell_type": "code",
   "execution_count": 20,
   "metadata": {},
   "outputs": [],
   "source": [
    "dataJ.Timestamp = dataJ.Timestamp.str.split('/')\n",
    "dataA.Timestamp = dataA.Timestamp.str.split('/')\n",
    "\n"
   ]
  },
  {
   "cell_type": "code",
   "execution_count": 21,
   "metadata": {},
   "outputs": [
    {
     "data": {
      "text/html": [
       "<div>\n",
       "<style scoped>\n",
       "    .dataframe tbody tr th:only-of-type {\n",
       "        vertical-align: middle;\n",
       "    }\n",
       "\n",
       "    .dataframe tbody tr th {\n",
       "        vertical-align: top;\n",
       "    }\n",
       "\n",
       "    .dataframe thead th {\n",
       "        text-align: right;\n",
       "    }\n",
       "</style>\n",
       "<table border=\"1\" class=\"dataframe\">\n",
       "  <thead>\n",
       "    <tr style=\"text-align: right;\">\n",
       "      <th></th>\n",
       "      <th>Host</th>\n",
       "      <th>Timestamp</th>\n",
       "      <th>Requisição</th>\n",
       "      <th>Código do retorno HTTP</th>\n",
       "      <th>Total de bytes retornados</th>\n",
       "    </tr>\n",
       "  </thead>\n",
       "  <tbody>\n",
       "    <tr>\n",
       "      <th>0</th>\n",
       "      <td>199.72.81.55</td>\n",
       "      <td>[[01, Jul, 1995:00:00:01]</td>\n",
       "      <td>GET /history/apollo/ HTTP/1.0</td>\n",
       "      <td>200.0</td>\n",
       "      <td>6245</td>\n",
       "    </tr>\n",
       "    <tr>\n",
       "      <th>1</th>\n",
       "      <td>unicomp6.unicomp.net</td>\n",
       "      <td>[[01, Jul, 1995:00:00:06]</td>\n",
       "      <td>GET /shuttle/countdown/ HTTP/1.0</td>\n",
       "      <td>200.0</td>\n",
       "      <td>3985</td>\n",
       "    </tr>\n",
       "    <tr>\n",
       "      <th>2</th>\n",
       "      <td>199.120.110.21</td>\n",
       "      <td>[[01, Jul, 1995:00:00:09]</td>\n",
       "      <td>GET /shuttle/missions/sts-73/mission-sts-73.ht...</td>\n",
       "      <td>200.0</td>\n",
       "      <td>4085</td>\n",
       "    </tr>\n",
       "    <tr>\n",
       "      <th>3</th>\n",
       "      <td>burger.letters.com</td>\n",
       "      <td>[[01, Jul, 1995:00:00:11]</td>\n",
       "      <td>GET /shuttle/countdown/liftoff.html HTTP/1.0</td>\n",
       "      <td>304.0</td>\n",
       "      <td>0</td>\n",
       "    </tr>\n",
       "    <tr>\n",
       "      <th>4</th>\n",
       "      <td>199.120.110.21</td>\n",
       "      <td>[[01, Jul, 1995:00:00:11]</td>\n",
       "      <td>GET /shuttle/missions/sts-73/sts-73-patch-smal...</td>\n",
       "      <td>200.0</td>\n",
       "      <td>4179</td>\n",
       "    </tr>\n",
       "  </tbody>\n",
       "</table>\n",
       "</div>"
      ],
      "text/plain": [
       "                   Host                  Timestamp  \\\n",
       "0          199.72.81.55  [[01, Jul, 1995:00:00:01]   \n",
       "1  unicomp6.unicomp.net  [[01, Jul, 1995:00:00:06]   \n",
       "2        199.120.110.21  [[01, Jul, 1995:00:00:09]   \n",
       "3    burger.letters.com  [[01, Jul, 1995:00:00:11]   \n",
       "4        199.120.110.21  [[01, Jul, 1995:00:00:11]   \n",
       "\n",
       "                                          Requisição  Código do retorno HTTP  \\\n",
       "0                      GET /history/apollo/ HTTP/1.0                   200.0   \n",
       "1                   GET /shuttle/countdown/ HTTP/1.0                   200.0   \n",
       "2  GET /shuttle/missions/sts-73/mission-sts-73.ht...                   200.0   \n",
       "3       GET /shuttle/countdown/liftoff.html HTTP/1.0                   304.0   \n",
       "4  GET /shuttle/missions/sts-73/sts-73-patch-smal...                   200.0   \n",
       "\n",
       "  Total de bytes retornados  \n",
       "0                      6245  \n",
       "1                      3985  \n",
       "2                      4085  \n",
       "3                         0  \n",
       "4                      4179  "
      ]
     },
     "execution_count": 21,
     "metadata": {},
     "output_type": "execute_result"
    }
   ],
   "source": [
    "dataJ.head()"
   ]
  },
  {
   "cell_type": "code",
   "execution_count": 22,
   "metadata": {},
   "outputs": [],
   "source": [
    "data2J = explode(dataJ, ['Timestamp'] , fill_value='')\n",
    "data2A = explode(dataA, ['Timestamp'] , fill_value='')"
   ]
  },
  {
   "cell_type": "code",
   "execution_count": 23,
   "metadata": {
    "scrolled": true
   },
   "outputs": [
    {
     "data": {
      "text/html": [
       "<div>\n",
       "<style scoped>\n",
       "    .dataframe tbody tr th:only-of-type {\n",
       "        vertical-align: middle;\n",
       "    }\n",
       "\n",
       "    .dataframe tbody tr th {\n",
       "        vertical-align: top;\n",
       "    }\n",
       "\n",
       "    .dataframe thead th {\n",
       "        text-align: right;\n",
       "    }\n",
       "</style>\n",
       "<table border=\"1\" class=\"dataframe\">\n",
       "  <thead>\n",
       "    <tr style=\"text-align: right;\">\n",
       "      <th></th>\n",
       "      <th>Host</th>\n",
       "      <th>Timestamp</th>\n",
       "      <th>Requisição</th>\n",
       "      <th>Código do retorno HTTP</th>\n",
       "      <th>Total de bytes retornados</th>\n",
       "    </tr>\n",
       "  </thead>\n",
       "  <tbody>\n",
       "    <tr>\n",
       "      <th>0</th>\n",
       "      <td>199.72.81.55</td>\n",
       "      <td>[01</td>\n",
       "      <td>GET /history/apollo/ HTTP/1.0</td>\n",
       "      <td>200.0</td>\n",
       "      <td>6245</td>\n",
       "    </tr>\n",
       "    <tr>\n",
       "      <th>1</th>\n",
       "      <td>199.72.81.55</td>\n",
       "      <td>Jul</td>\n",
       "      <td>GET /history/apollo/ HTTP/1.0</td>\n",
       "      <td>200.0</td>\n",
       "      <td>6245</td>\n",
       "    </tr>\n",
       "    <tr>\n",
       "      <th>2</th>\n",
       "      <td>199.72.81.55</td>\n",
       "      <td>1995:00:00:01</td>\n",
       "      <td>GET /history/apollo/ HTTP/1.0</td>\n",
       "      <td>200.0</td>\n",
       "      <td>6245</td>\n",
       "    </tr>\n",
       "    <tr>\n",
       "      <th>3</th>\n",
       "      <td>unicomp6.unicomp.net</td>\n",
       "      <td>[01</td>\n",
       "      <td>GET /shuttle/countdown/ HTTP/1.0</td>\n",
       "      <td>200.0</td>\n",
       "      <td>3985</td>\n",
       "    </tr>\n",
       "    <tr>\n",
       "      <th>4</th>\n",
       "      <td>unicomp6.unicomp.net</td>\n",
       "      <td>Jul</td>\n",
       "      <td>GET /shuttle/countdown/ HTTP/1.0</td>\n",
       "      <td>200.0</td>\n",
       "      <td>3985</td>\n",
       "    </tr>\n",
       "  </tbody>\n",
       "</table>\n",
       "</div>"
      ],
      "text/plain": [
       "                   Host      Timestamp                        Requisição  \\\n",
       "0          199.72.81.55            [01     GET /history/apollo/ HTTP/1.0   \n",
       "1          199.72.81.55            Jul     GET /history/apollo/ HTTP/1.0   \n",
       "2          199.72.81.55  1995:00:00:01     GET /history/apollo/ HTTP/1.0   \n",
       "3  unicomp6.unicomp.net            [01  GET /shuttle/countdown/ HTTP/1.0   \n",
       "4  unicomp6.unicomp.net            Jul  GET /shuttle/countdown/ HTTP/1.0   \n",
       "\n",
       "   Código do retorno HTTP Total de bytes retornados  \n",
       "0                   200.0                      6245  \n",
       "1                   200.0                      6245  \n",
       "2                   200.0                      6245  \n",
       "3                   200.0                      3985  \n",
       "4                   200.0                      3985  "
      ]
     },
     "execution_count": 23,
     "metadata": {},
     "output_type": "execute_result"
    }
   ],
   "source": [
    "data2J.head()"
   ]
  },
  {
   "cell_type": "code",
   "execution_count": 24,
   "metadata": {},
   "outputs": [],
   "source": [
    "dataerro2J=data2J[data2J['Código do retorno HTTP']==404]\n",
    "dataerro2A=data2A[data2A['Código do retorno HTTP']==404]"
   ]
  },
  {
   "cell_type": "code",
   "execution_count": 25,
   "metadata": {},
   "outputs": [
    {
     "data": {
      "text/html": [
       "<div>\n",
       "<style scoped>\n",
       "    .dataframe tbody tr th:only-of-type {\n",
       "        vertical-align: middle;\n",
       "    }\n",
       "\n",
       "    .dataframe tbody tr th {\n",
       "        vertical-align: top;\n",
       "    }\n",
       "\n",
       "    .dataframe thead th {\n",
       "        text-align: right;\n",
       "    }\n",
       "</style>\n",
       "<table border=\"1\" class=\"dataframe\">\n",
       "  <thead>\n",
       "    <tr style=\"text-align: right;\">\n",
       "      <th></th>\n",
       "      <th>Host</th>\n",
       "      <th>Timestamp</th>\n",
       "      <th>Requisição</th>\n",
       "      <th>Código do retorno HTTP</th>\n",
       "      <th>Total de bytes retornados</th>\n",
       "    </tr>\n",
       "  </thead>\n",
       "  <tbody>\n",
       "    <tr>\n",
       "      <th>150</th>\n",
       "      <td>dd15-062.compuserve.com</td>\n",
       "      <td>[01</td>\n",
       "      <td>GET /news/sci.space.shuttle/archive/sci-space-...</td>\n",
       "      <td>404.0</td>\n",
       "      <td>-</td>\n",
       "    </tr>\n",
       "    <tr>\n",
       "      <th>151</th>\n",
       "      <td>dd15-062.compuserve.com</td>\n",
       "      <td>Jul</td>\n",
       "      <td>GET /news/sci.space.shuttle/archive/sci-space-...</td>\n",
       "      <td>404.0</td>\n",
       "      <td>-</td>\n",
       "    </tr>\n",
       "    <tr>\n",
       "      <th>152</th>\n",
       "      <td>dd15-062.compuserve.com</td>\n",
       "      <td>1995:00:01:12</td>\n",
       "      <td>GET /news/sci.space.shuttle/archive/sci-space-...</td>\n",
       "      <td>404.0</td>\n",
       "      <td>-</td>\n",
       "    </tr>\n",
       "    <tr>\n",
       "      <th>1743</th>\n",
       "      <td>netport-27.iu.net</td>\n",
       "      <td>[01</td>\n",
       "      <td>GET /pub/winvn/readme.txt HTTP/1.0</td>\n",
       "      <td>404.0</td>\n",
       "      <td>-</td>\n",
       "    </tr>\n",
       "    <tr>\n",
       "      <th>1744</th>\n",
       "      <td>netport-27.iu.net</td>\n",
       "      <td>Jul</td>\n",
       "      <td>GET /pub/winvn/readme.txt HTTP/1.0</td>\n",
       "      <td>404.0</td>\n",
       "      <td>-</td>\n",
       "    </tr>\n",
       "  </tbody>\n",
       "</table>\n",
       "</div>"
      ],
      "text/plain": [
       "                         Host      Timestamp  \\\n",
       "150   dd15-062.compuserve.com            [01   \n",
       "151   dd15-062.compuserve.com            Jul   \n",
       "152   dd15-062.compuserve.com  1995:00:01:12   \n",
       "1743        netport-27.iu.net            [01   \n",
       "1744        netport-27.iu.net            Jul   \n",
       "\n",
       "                                             Requisição  \\\n",
       "150   GET /news/sci.space.shuttle/archive/sci-space-...   \n",
       "151   GET /news/sci.space.shuttle/archive/sci-space-...   \n",
       "152   GET /news/sci.space.shuttle/archive/sci-space-...   \n",
       "1743                 GET /pub/winvn/readme.txt HTTP/1.0   \n",
       "1744                 GET /pub/winvn/readme.txt HTTP/1.0   \n",
       "\n",
       "      Código do retorno HTTP Total de bytes retornados  \n",
       "150                    404.0                         -  \n",
       "151                    404.0                         -  \n",
       "152                    404.0                         -  \n",
       "1743                   404.0                         -  \n",
       "1744                   404.0                         -  "
      ]
     },
     "execution_count": 25,
     "metadata": {},
     "output_type": "execute_result"
    }
   ],
   "source": [
    "dataerro2J.head()"
   ]
  },
  {
   "cell_type": "code",
   "execution_count": 26,
   "metadata": {},
   "outputs": [],
   "source": [
    "erros_por_diaJ=dataerro2J['Timestamp'].value_counts().head(30)\n",
    "erros_por_diaA=dataerro2A['Timestamp'].value_counts().head(31)"
   ]
  },
  {
   "cell_type": "markdown",
   "metadata": {},
   "source": [
    "#### Erros por dia do mês de Julho:"
   ]
  },
  {
   "cell_type": "code",
   "execution_count": 27,
   "metadata": {},
   "outputs": [
    {
     "data": {
      "text/plain": [
       "Jul              10845\n",
       "[06                640\n",
       "[19                639\n",
       "[07                570\n",
       "[13                532\n",
       "[05                497\n",
       "[03                474\n",
       "[12                471\n",
       "[11                471\n",
       "[18                465\n",
       "[25                461\n",
       "[20                428\n",
       "[14                413\n",
       "[17                406\n",
       "[10                398\n",
       "[04                359\n",
       "[09                348\n",
       "[27                336\n",
       "[26                336\n",
       "[21                334\n",
       "[24                328\n",
       "[01                316\n",
       "[08                302\n",
       "[02                291\n",
       "[16                257\n",
       "[15                254\n",
       "[23                233\n",
       "[22                192\n",
       "[28                 94\n",
       "1995:10:20:43        5\n",
       "Name: Timestamp, dtype: int64"
      ]
     },
     "execution_count": 27,
     "metadata": {},
     "output_type": "execute_result"
    }
   ],
   "source": [
    "erros_por_diaJ"
   ]
  },
  {
   "cell_type": "markdown",
   "metadata": {},
   "source": [
    "#### Erros por dia do mês de Agosto:"
   ]
  },
  {
   "cell_type": "code",
   "execution_count": 28,
   "metadata": {},
   "outputs": [
    {
     "data": {
      "text/plain": [
       "Aug    10056\n",
       "[30      571\n",
       "[07      537\n",
       "[31      526\n",
       "[29      420\n",
       "[24      420\n",
       "[25      415\n",
       "[28      410\n",
       "[08      391\n",
       "[06      373\n",
       "[27      370\n",
       "[26      366\n",
       "[04      346\n",
       "[23      345\n",
       "[15      327\n",
       "[10      315\n",
       "[20      312\n",
       "[21      305\n",
       "[03      304\n",
       "[22      288\n",
       "[14      287\n",
       "[09      279\n",
       "[17      271\n",
       "[11      263\n",
       "[16      259\n",
       "[18      256\n",
       "[01      243\n",
       "[05      236\n",
       "[13      216\n",
       "[19      209\n",
       "[12      196\n",
       "Name: Timestamp, dtype: int64"
      ]
     },
     "execution_count": 28,
     "metadata": {},
     "output_type": "execute_result"
    }
   ],
   "source": [
    "erros_por_diaA"
   ]
  },
  {
   "cell_type": "markdown",
   "metadata": {},
   "source": [
    "## O total de bytes retornados"
   ]
  },
  {
   "cell_type": "code",
   "execution_count": 29,
   "metadata": {},
   "outputs": [
    {
     "data": {
      "text/html": [
       "<div>\n",
       "<style scoped>\n",
       "    .dataframe tbody tr th:only-of-type {\n",
       "        vertical-align: middle;\n",
       "    }\n",
       "\n",
       "    .dataframe tbody tr th {\n",
       "        vertical-align: top;\n",
       "    }\n",
       "\n",
       "    .dataframe thead th {\n",
       "        text-align: right;\n",
       "    }\n",
       "</style>\n",
       "<table border=\"1\" class=\"dataframe\">\n",
       "  <thead>\n",
       "    <tr style=\"text-align: right;\">\n",
       "      <th></th>\n",
       "      <th>Host</th>\n",
       "      <th>Timestamp</th>\n",
       "      <th>Requisição</th>\n",
       "      <th>Código do retorno HTTP</th>\n",
       "      <th>Total de bytes retornados</th>\n",
       "    </tr>\n",
       "  </thead>\n",
       "  <tbody>\n",
       "    <tr>\n",
       "      <th>50</th>\n",
       "      <td>dd15-062.compuserve.com</td>\n",
       "      <td>[01/Jul/1995:00:01:12</td>\n",
       "      <td>GET /news/sci.space.shuttle/archive/sci-space-...</td>\n",
       "      <td>404.0</td>\n",
       "      <td>-</td>\n",
       "    </tr>\n",
       "    <tr>\n",
       "      <th>116</th>\n",
       "      <td>dynip42.efn.org</td>\n",
       "      <td>[01/Jul/1995:00:02:14</td>\n",
       "      <td>GET /software HTTP/1.0</td>\n",
       "      <td>302.0</td>\n",
       "      <td>-</td>\n",
       "    </tr>\n",
       "    <tr>\n",
       "      <th>144</th>\n",
       "      <td>ix-or10-06.ix.netcom.com</td>\n",
       "      <td>[01/Jul/1995:00:02:40</td>\n",
       "      <td>GET /software/winvn HTTP/1.0</td>\n",
       "      <td>302.0</td>\n",
       "      <td>-</td>\n",
       "    </tr>\n",
       "    <tr>\n",
       "      <th>192</th>\n",
       "      <td>ix-or10-06.ix.netcom.com</td>\n",
       "      <td>[01/Jul/1995:00:03:24</td>\n",
       "      <td>GET /software HTTP/1.0</td>\n",
       "      <td>302.0</td>\n",
       "      <td>-</td>\n",
       "    </tr>\n",
       "    <tr>\n",
       "      <th>303</th>\n",
       "      <td>link097.txdirect.net</td>\n",
       "      <td>[01/Jul/1995:00:05:06</td>\n",
       "      <td>GET /shuttle HTTP/1.0</td>\n",
       "      <td>302.0</td>\n",
       "      <td>-</td>\n",
       "    </tr>\n",
       "  </tbody>\n",
       "</table>\n",
       "</div>"
      ],
      "text/plain": [
       "                         Host              Timestamp  \\\n",
       "50    dd15-062.compuserve.com  [01/Jul/1995:00:01:12   \n",
       "116           dynip42.efn.org  [01/Jul/1995:00:02:14   \n",
       "144  ix-or10-06.ix.netcom.com  [01/Jul/1995:00:02:40   \n",
       "192  ix-or10-06.ix.netcom.com  [01/Jul/1995:00:03:24   \n",
       "303      link097.txdirect.net  [01/Jul/1995:00:05:06   \n",
       "\n",
       "                                            Requisição  \\\n",
       "50   GET /news/sci.space.shuttle/archive/sci-space-...   \n",
       "116                             GET /software HTTP/1.0   \n",
       "144                       GET /software/winvn HTTP/1.0   \n",
       "192                             GET /software HTTP/1.0   \n",
       "303                              GET /shuttle HTTP/1.0   \n",
       "\n",
       "     Código do retorno HTTP Total de bytes retornados  \n",
       "50                    404.0                         -  \n",
       "116                   302.0                         -  \n",
       "144                   302.0                         -  \n",
       "192                   302.0                         -  \n",
       "303                   302.0                         -  "
      ]
     },
     "execution_count": 29,
     "metadata": {},
     "output_type": "execute_result"
    }
   ],
   "source": [
    "data[data['Total de bytes retornados']=='-'].head()"
   ]
  },
  {
   "cell_type": "code",
   "execution_count": 30,
   "metadata": {},
   "outputs": [],
   "source": [
    "data['Total de bytes retornados'].replace('-', value=0,inplace=True)"
   ]
  },
  {
   "cell_type": "code",
   "execution_count": 31,
   "metadata": {},
   "outputs": [
    {
     "data": {
      "text/plain": [
       "Host                                                   dd15-062.compuserve.com\n",
       "Timestamp                                                [01/Jul/1995:00:01:12\n",
       "Requisição                   GET /news/sci.space.shuttle/archive/sci-space-...\n",
       "Código do retorno HTTP                                                     404\n",
       "Total de bytes retornados                                                    0\n",
       "Name: 50, dtype: object"
      ]
     },
     "execution_count": 31,
     "metadata": {},
     "output_type": "execute_result"
    }
   ],
   "source": [
    "data.iloc[50]"
   ]
  },
  {
   "cell_type": "code",
   "execution_count": 32,
   "metadata": {},
   "outputs": [],
   "source": [
    "data['Total de bytes retornados'] = data['Total de bytes retornados'].astype(float).fillna(0, downcast='infer')"
   ]
  },
  {
   "cell_type": "code",
   "execution_count": 33,
   "metadata": {},
   "outputs": [
    {
     "name": "stdout",
     "output_type": "stream",
     "text": [
      "<class 'pandas.core.frame.DataFrame'>\n",
      "Int64Index: 3461613 entries, 0 to 1569897\n",
      "Data columns (total 5 columns):\n",
      "Host                         object\n",
      "Timestamp                    object\n",
      "Requisição                   object\n",
      "Código do retorno HTTP       float64\n",
      "Total de bytes retornados    int64\n",
      "dtypes: float64(1), int64(1), object(3)\n",
      "memory usage: 158.5+ MB\n"
     ]
    }
   ],
   "source": [
    "data.info()"
   ]
  },
  {
   "cell_type": "code",
   "execution_count": 34,
   "metadata": {},
   "outputs": [
    {
     "data": {
      "text/plain": [
       "65524314915"
      ]
     },
     "execution_count": 34,
     "metadata": {},
     "output_type": "execute_result"
    }
   ],
   "source": [
    "data['Total de bytes retornados'].sum()"
   ]
  },
  {
   "cell_type": "code",
   "execution_count": null,
   "metadata": {},
   "outputs": [],
   "source": []
  }
 ],
 "metadata": {
  "kernelspec": {
   "display_name": "Python 3",
   "language": "python",
   "name": "python3"
  },
  "language_info": {
   "codemirror_mode": {
    "name": "ipython",
    "version": 3
   },
   "file_extension": ".py",
   "mimetype": "text/x-python",
   "name": "python",
   "nbconvert_exporter": "python",
   "pygments_lexer": "ipython3",
   "version": "3.6.5"
  }
 },
 "nbformat": 4,
 "nbformat_minor": 2
}
